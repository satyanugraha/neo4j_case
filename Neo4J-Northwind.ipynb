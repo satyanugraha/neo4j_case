{
 "cells": [
  {
   "cell_type": "code",
   "execution_count": 8,
   "id": "jewish-collaboration",
   "metadata": {},
   "outputs": [],
   "source": [
    "# import sys\n",
    "# !{sys.executable} -m pip install neo4j\n",
    "\n",
    "from neo4j import GraphDatabase\n",
    "import pandas as pd\n",
    "import warnings\n",
    "warnings.filterwarnings('ignore')\n",
    "\n",
    "\n",
    "\n",
    "def execute_transactions(_list,uri,user,password):\n",
    "    data_base_connection = GraphDatabase.driver(uri = uri, auth=(user, password))\n",
    "    session = data_base_connection.session()    \n",
    "    for i in _list:\n",
    "        session.run(i)\n"
   ]
  },
  {
   "cell_type": "markdown",
   "id": "crucial-planner",
   "metadata": {},
   "source": [
    "## Setup Connection to local Neo4j Browser"
   ]
  },
  {
   "cell_type": "code",
   "execution_count": 9,
   "id": "undefined-element",
   "metadata": {},
   "outputs": [],
   "source": [
    "uri = \"bolt://localhost:7687\"\n",
    "user = \"neo4j\"\n",
    "password = \"password\"\n",
    "\n"
   ]
  },
  {
   "cell_type": "markdown",
   "id": "spectacular-tampa",
   "metadata": {},
   "source": [
    "## Load Data Northwind"
   ]
  },
  {
   "cell_type": "code",
   "execution_count": 10,
   "id": "preceding-touch",
   "metadata": {},
   "outputs": [
    {
     "name": "stderr",
     "output_type": "stream",
     "text": [
      "b'Skipping line 8: expected 11 fields, saw 12\\nSkipping line 9: expected 11 fields, saw 12\\nSkipping line 10: expected 11 fields, saw 12\\nSkipping line 16: expected 11 fields, saw 12\\nSkipping line 19: expected 11 fields, saw 12\\nSkipping line 22: expected 11 fields, saw 12\\nSkipping line 23: expected 11 fields, saw 12\\nSkipping line 24: expected 11 fields, saw 12\\nSkipping line 27: expected 11 fields, saw 12\\nSkipping line 30: expected 11 fields, saw 12\\nSkipping line 31: expected 11 fields, saw 12\\nSkipping line 32: expected 11 fields, saw 12\\nSkipping line 35: expected 11 fields, saw 12\\nSkipping line 41: expected 11 fields, saw 12\\nSkipping line 58: expected 11 fields, saw 12\\nSkipping line 62: expected 11 fields, saw 12\\nSkipping line 63: expected 11 fields, saw 12\\nSkipping line 68: expected 11 fields, saw 12\\nSkipping line 70: expected 11 fields, saw 12\\nSkipping line 75: expected 11 fields, saw 12\\nSkipping line 77: expected 11 fields, saw 12\\nSkipping line 82: expected 11 fields, saw 12\\nSkipping line 85: expected 11 fields, saw 12\\nSkipping line 89: expected 11 fields, saw 12\\n'\n",
      "b'Skipping line 3: expected 18 fields, saw 19\\nSkipping line 6: expected 18 fields, saw 21\\nSkipping line 7: expected 18 fields, saw 22\\nSkipping line 8: expected 18 fields, saw 20\\n'\n",
      "b'Skipping line 4: expected 14 fields, saw 15\\nSkipping line 5: expected 14 fields, saw 15\\nSkipping line 6: expected 14 fields, saw 15\\nSkipping line 7: expected 14 fields, saw 15\\nSkipping line 10: expected 14 fields, saw 15\\nSkipping line 15: expected 14 fields, saw 15\\nSkipping line 19: expected 14 fields, saw 15\\nSkipping line 35: expected 14 fields, saw 15\\nSkipping line 36: expected 14 fields, saw 15\\nSkipping line 41: expected 14 fields, saw 15\\nSkipping line 44: expected 14 fields, saw 15\\nSkipping line 45: expected 14 fields, saw 15\\nSkipping line 46: expected 14 fields, saw 15\\nSkipping line 51: expected 14 fields, saw 15\\nSkipping line 53: expected 14 fields, saw 15\\nSkipping line 56: expected 14 fields, saw 15\\nSkipping line 57: expected 14 fields, saw 15\\nSkipping line 60: expected 14 fields, saw 15\\nSkipping line 65: expected 14 fields, saw 15\\nSkipping line 80: expected 14 fields, saw 15\\nSkipping line 85: expected 14 fields, saw 15\\nSkipping line 88: expected 14 fields, saw 15\\nSkipping line 94: expected 14 fields, saw 15\\nSkipping line 101: expected 14 fields, saw 15\\nSkipping line 114: expected 14 fields, saw 15\\nSkipping line 116: expected 14 fields, saw 15\\nSkipping line 120: expected 14 fields, saw 15\\nSkipping line 126: expected 14 fields, saw 15\\nSkipping line 133: expected 14 fields, saw 15\\nSkipping line 140: expected 14 fields, saw 15\\nSkipping line 160: expected 14 fields, saw 15\\nSkipping line 162: expected 14 fields, saw 15\\nSkipping line 168: expected 14 fields, saw 15\\nSkipping line 174: expected 14 fields, saw 15\\nSkipping line 175: expected 14 fields, saw 15\\nSkipping line 177: expected 14 fields, saw 15\\nSkipping line 180: expected 14 fields, saw 15\\nSkipping line 190: expected 14 fields, saw 15\\nSkipping line 201: expected 14 fields, saw 15\\nSkipping line 203: expected 14 fields, saw 15\\nSkipping line 204: expected 14 fields, saw 15\\nSkipping line 212: expected 14 fields, saw 15\\nSkipping line 213: expected 14 fields, saw 15\\nSkipping line 217: expected 14 fields, saw 15\\nSkipping line 220: expected 14 fields, saw 15\\nSkipping line 224: expected 14 fields, saw 15\\nSkipping line 229: expected 14 fields, saw 15\\nSkipping line 232: expected 14 fields, saw 15\\nSkipping line 234: expected 14 fields, saw 15\\nSkipping line 235: expected 14 fields, saw 15\\nSkipping line 241: expected 14 fields, saw 15\\nSkipping line 248: expected 14 fields, saw 15\\nSkipping line 250: expected 14 fields, saw 15\\nSkipping line 265: expected 14 fields, saw 15\\nSkipping line 266: expected 14 fields, saw 15\\nSkipping line 279: expected 14 fields, saw 15\\nSkipping line 295: expected 14 fields, saw 15\\nSkipping line 300: expected 14 fields, saw 15\\nSkipping line 304: expected 14 fields, saw 15\\nSkipping line 313: expected 14 fields, saw 15\\nSkipping line 317: expected 14 fields, saw 15\\nSkipping line 320: expected 14 fields, saw 15\\nSkipping line 322: expected 14 fields, saw 15\\nSkipping line 335: expected 14 fields, saw 15\\nSkipping line 338: expected 14 fields, saw 15\\nSkipping line 339: expected 14 fields, saw 15\\nSkipping line 341: expected 14 fields, saw 15\\nSkipping line 360: expected 14 fields, saw 15\\nSkipping line 363: expected 14 fields, saw 15\\nSkipping line 376: expected 14 fields, saw 15\\nSkipping line 382: expected 14 fields, saw 15\\nSkipping line 383: expected 14 fields, saw 15\\nSkipping line 388: expected 14 fields, saw 15\\nSkipping line 391: expected 14 fields, saw 15\\nSkipping line 398: expected 14 fields, saw 15\\nSkipping line 399: expected 14 fields, saw 15\\nSkipping line 401: expected 14 fields, saw 15\\nSkipping line 402: expected 14 fields, saw 15\\nSkipping line 404: expected 14 fields, saw 15\\nSkipping line 406: expected 14 fields, saw 15\\nSkipping line 413: expected 14 fields, saw 15\\nSkipping line 417: expected 14 fields, saw 15\\nSkipping line 425: expected 14 fields, saw 15\\nSkipping line 433: expected 14 fields, saw 15\\nSkipping line 437: expected 14 fields, saw 15\\nSkipping line 439: expected 14 fields, saw 15\\nSkipping line 444: expected 14 fields, saw 15\\nSkipping line 458: expected 14 fields, saw 15\\nSkipping line 463: expected 14 fields, saw 15\\nSkipping line 469: expected 14 fields, saw 15\\nSkipping line 474: expected 14 fields, saw 15\\nSkipping line 479: expected 14 fields, saw 15\\nSkipping line 482: expected 14 fields, saw 15\\nSkipping line 484: expected 14 fields, saw 15\\nSkipping line 486: expected 14 fields, saw 15\\nSkipping line 488: expected 14 fields, saw 15\\nSkipping line 492: expected 14 fields, saw 15\\nSkipping line 509: expected 14 fields, saw 15\\nSkipping line 517: expected 14 fields, saw 15\\nSkipping line 521: expected 14 fields, saw 15\\nSkipping line 524: expected 14 fields, saw 15\\nSkipping line 531: expected 14 fields, saw 15\\nSkipping line 537: expected 14 fields, saw 15\\nSkipping line 540: expected 14 fields, saw 15\\nSkipping line 543: expected 14 fields, saw 15\\nSkipping line 544: expected 14 fields, saw 15\\nSkipping line 548: expected 14 fields, saw 15\\nSkipping line 555: expected 14 fields, saw 15\\nSkipping line 557: expected 14 fields, saw 15\\nSkipping line 560: expected 14 fields, saw 15\\nSkipping line 563: expected 14 fields, saw 15\\nSkipping line 567: expected 14 fields, saw 15\\nSkipping line 568: expected 14 fields, saw 15\\nSkipping line 580: expected 14 fields, saw 15\\nSkipping line 581: expected 14 fields, saw 15\\nSkipping line 584: expected 14 fields, saw 15\\nSkipping line 588: expected 14 fields, saw 15\\nSkipping line 593: expected 14 fields, saw 15\\nSkipping line 595: expected 14 fields, saw 15\\nSkipping line 597: expected 14 fields, saw 15\\nSkipping line 600: expected 14 fields, saw 15\\nSkipping line 604: expected 14 fields, saw 15\\nSkipping line 605: expected 14 fields, saw 15\\nSkipping line 612: expected 14 fields, saw 15\\nSkipping line 614: expected 14 fields, saw 15\\nSkipping line 622: expected 14 fields, saw 15\\nSkipping line 625: expected 14 fields, saw 15\\nSkipping line 626: expected 14 fields, saw 15\\nSkipping line 628: expected 14 fields, saw 15\\nSkipping line 630: expected 14 fields, saw 15\\nSkipping line 631: expected 14 fields, saw 15\\nSkipping line 639: expected 14 fields, saw 15\\nSkipping line 640: expected 14 fields, saw 15\\nSkipping line 641: expected 14 fields, saw 15\\nSkipping line 642: expected 14 fields, saw 15\\nSkipping line 644: expected 14 fields, saw 15\\nSkipping line 654: expected 14 fields, saw 15\\nSkipping line 657: expected 14 fields, saw 15\\nSkipping line 659: expected 14 fields, saw 15\\nSkipping line 661: expected 14 fields, saw 15\\nSkipping line 665: expected 14 fields, saw 15\\nSkipping line 667: expected 14 fields, saw 15\\nSkipping line 668: expected 14 fields, saw 15\\nSkipping line 671: expected 14 fields, saw 15\\nSkipping line 676: expected 14 fields, saw 15\\nSkipping line 679: expected 14 fields, saw 15\\nSkipping line 681: expected 14 fields, saw 15\\nSkipping line 682: expected 14 fields, saw 15\\nSkipping line 684: expected 14 fields, saw 15\\nSkipping line 686: expected 14 fields, saw 15\\nSkipping line 689: expected 14 fields, saw 15\\nSkipping line 694: expected 14 fields, saw 15\\nSkipping line 702: expected 14 fields, saw 15\\nSkipping line 713: expected 14 fields, saw 15\\nSkipping line 715: expected 14 fields, saw 15\\nSkipping line 718: expected 14 fields, saw 15\\nSkipping line 723: expected 14 fields, saw 15\\nSkipping line 724: expected 14 fields, saw 15\\nSkipping line 725: expected 14 fields, saw 15\\nSkipping line 726: expected 14 fields, saw 15\\nSkipping line 727: expected 14 fields, saw 15\\nSkipping line 735: expected 14 fields, saw 15\\nSkipping line 743: expected 14 fields, saw 15\\nSkipping line 763: expected 14 fields, saw 15\\nSkipping line 767: expected 14 fields, saw 15\\nSkipping line 776: expected 14 fields, saw 15\\nSkipping line 789: expected 14 fields, saw 15\\nSkipping line 791: expected 14 fields, saw 15\\nSkipping line 792: expected 14 fields, saw 15\\nSkipping line 796: expected 14 fields, saw 15\\nSkipping line 797: expected 14 fields, saw 15\\nSkipping line 803: expected 14 fields, saw 15\\nSkipping line 806: expected 14 fields, saw 15\\nSkipping line 813: expected 14 fields, saw 15\\nSkipping line 822: expected 14 fields, saw 15\\nSkipping line 830: expected 14 fields, saw 15\\n'\n",
      "b'Skipping line 8: expected 12 fields, saw 13\\nSkipping line 9: expected 12 fields, saw 13\\nSkipping line 15: expected 12 fields, saw 13\\nSkipping line 19: expected 12 fields, saw 13\\nSkipping line 21: expected 12 fields, saw 13\\nSkipping line 25: expected 12 fields, saw 13\\nSkipping line 27: expected 12 fields, saw 13\\nSkipping line 28: expected 12 fields, saw 13\\nSkipping line 29: expected 12 fields, saw 13\\n'\n"
     ]
    }
   ],
   "source": [
    "df_northwind_category = pd.read_csv('data_sample/Retail - North Wind Data/northwind-categories.csv',error_bad_lines=False)\n",
    "df_northwind_customer = pd.read_csv('data_sample/Retail - North Wind Data/northwind-customers.csv',error_bad_lines=False)\n",
    "df_northwind_employee = pd.read_csv('data_sample/Retail - North Wind Data/northwind-employees.csv',error_bad_lines=False)\n",
    "df_northwind_order = pd.read_csv('data_sample/Retail - North Wind Data/northwind-orders.csv',error_bad_lines=False)\n",
    "df_northwind_product = pd.read_csv('data_sample/Retail - North Wind Data/northwind-products.csv',error_bad_lines=False,delimiter=';')\n",
    "df_northwind_supplier = pd.read_csv('data_sample/Retail - North Wind Data/northwind-suppliers.csv',error_bad_lines=False)\n",
    "df_northwind_order_detail = pd.read_csv('data_sample/Retail - North Wind Data/northwond-order-details.csv',error_bad_lines=False)\n",
    "\n",
    "\n",
    "# print(df_northwind_category.head())\n",
    "# print(df_northwind_customer.head())\n",
    "# print(df_northwind_employee.head())\n",
    "# print(df_northwind_order.head())\n",
    "# print(df_northwind_product.head())\n",
    "# print(df_northwind_supplier.head())\n",
    "# print(df_northwind_order_detail.head())\n",
    "\n"
   ]
  },
  {
   "cell_type": "markdown",
   "id": "demonstrated-possible",
   "metadata": {},
   "source": [
    "## Read JSON data from Arrow"
   ]
  },
  {
   "cell_type": "markdown",
   "id": "transsexual-cocktail",
   "metadata": {},
   "source": [
    "### node:\n",
    "#### 1. Product : productID\n",
    "#### 2. Category : categoryID\n",
    "#### 3. Supplier : supplierID\n",
    "#### 4. Customer : customerID\n",
    "#### 5. Order : OrderID\n",
    "#### 6. Employee : EmployeeID\n",
    "\n",
    "### relationship\n",
    "#### 1. PART_OF\n",
    "#### 2. SUPPLIES\n",
    "#### 3. PURCHASED\n",
    "#### 4. ORDERS\n",
    "#### 5. CASHIER\n",
    "#### 6. REPORTS_TO\n",
    "    \n",
    "    "
   ]
  },
  {
   "cell_type": "code",
   "execution_count": 11,
   "id": "abroad-portland",
   "metadata": {},
   "outputs": [
    {
     "name": "stdout",
     "output_type": "stream",
     "text": [
      "node\n",
      "['Product', 'Category', 'Supplier', 'Customer', 'Order']\n",
      "relationship\n",
      "['PART_OF', 'SUPPLIES', 'PURCHASED', 'ORDERS']\n"
     ]
    }
   ],
   "source": [
    "# arrow_json = pd.read_json('arrow/Northwind.json')\n",
    "import json\n",
    "\n",
    "f = open('arrow/Northwind.json')\n",
    "data = json.load(f)\n",
    "\n",
    "node_list = []\n",
    "relationship_list = []\n",
    "for node in data['nodes']:\n",
    "    node_list.append(node['labels'][0])\n",
    "for relationship in data['relationships']:\n",
    "    relationship_list.append(relationship['type'])\n",
    "    \n",
    "print('node')\n",
    "print(node_list)\n",
    "print('relationship')\n",
    "print(relationship_list)"
   ]
  },
  {
   "cell_type": "markdown",
   "id": "major-nancy",
   "metadata": {},
   "source": [
    "## Import Northwind data to Neo4j"
   ]
  },
  {
   "cell_type": "markdown",
   "id": "olympic-boating",
   "metadata": {},
   "source": [
    "### Import node Northwind"
   ]
  },
  {
   "cell_type": "code",
   "execution_count": 21,
   "id": "competitive-southwest",
   "metadata": {},
   "outputs": [],
   "source": [
    "df_northwind_product_column = df_northwind_product.columns\n",
    "\n",
    "create_node_list = []\n",
    "for index,row in df_northwind_product.iterrows():\n",
    "#     product_node_list.append('CREATE (n:'+'Product'+' {'\n",
    "    create_node_list.append('CREATE (n:'+'Product'+' {'\n",
    "          +'productID'+':'+'\"'+str(row['productID'])+'\"'\n",
    "          +','+'productName'+':'+'\"'+str(row['productName'])+'\"'\n",
    "          +','+'supplierID'+':'+'\"'+str(row['supplierID'])+'\"'\n",
    "          +','+'categoryID'+':'+'\"'+str(row['categoryID'])+'\"'\n",
    "          +','+'quantityPerUnit'+':'+'\"'+str(row['quantityPerUnit'])+'\"'\n",
    "          +','+'unitPrice'+':'+str(row['unitPrice'])\n",
    "          +','+'unitsInStock'+':'+str(row['unitsInStock'])\n",
    "          +','+'unitsOnOrder'+':'+str(row['unitsOnOrder'])\n",
    "          +','+'reorderLevel'+':'+str(row['reorderLevel'])\n",
    "          +','+'discontinued'+':'+str(row['discontinued'])\n",
    "          +'})')          \n",
    "        \n",
    "\n",
    "for index,row in df_northwind_category.iterrows():\n",
    "#     category_node_list.append('CREATE (n:'+'Category'+' {'\n",
    "    create_node_list.append('CREATE (n:'+'Category'+' {'\n",
    "          +'categoryID'+':'+'\"'+str(row['categoryID'])+'\"'\n",
    "          +','+'categoryName'+':'+'\"'+str(row['categoryName'])+'\"'\n",
    "          +','+'description'+':'+'\"'+str(row['description'])+'\"'\n",
    "          +','+'picture'+':'+'\"'+str(row['picture'])+'\"'\n",
    "          +'})')\n",
    "    \n",
    "\n",
    "for index,row in df_northwind_supplier.iterrows():\n",
    "#     category_node_list.append('CREATE (n:'+'Supplier'+' {'\n",
    "    create_node_list.append('CREATE (n:'+'Supplier'+' {'\n",
    "          +'supplierID'+':'+'\"'+str(row['supplierID'])+'\"'\n",
    "          +','+'companyName'+':'+'\"'+str(row['companyName'])+'\"'\n",
    "          +','+'contactName'+':'+'\"'+str(row['contactName'])+'\"'\n",
    "          +','+'contactTitle'+':'+'\"'+str(row['contactTitle'])+'\"'\n",
    "          +','+'address'+':'+'\"'+str(row['address'])+'\"'\n",
    "          +','+'city'+':'+'\"'+str(row['city'])+'\"'\n",
    "          +','+'region'+':'+'\"'+str(row['region'])+'\"'\n",
    "          +','+'postalCode'+':'+'\"'+str(row['postalCode'])+'\"'\n",
    "          +','+'country'+':'+'\"'+str(row['country'])+'\"'\n",
    "          +','+'phone'+':'+'\"'+str(row['phone'])+'\"'\n",
    "          +','+'fax'+':'+'\"'+str(row['fax'])+'\"'\n",
    "          +','+'homePage'+':'+'\"'+str(row['homePage'])+'\"'\n",
    "          +'})')\n",
    "    \n",
    "\n",
    "for index,row in df_northwind_customer.iterrows():\n",
    "#     category_node_list.append('CREATE (n:'+'Customer'+' {'\n",
    "    create_node_list.append('CREATE (n:'+'Customer'+' {'\n",
    "          +'customerID'+':'+'\"'+str(row['customerID'])+'\"'\n",
    "          +','+'companyName'+':'+'\"'+str(row['companyName'])+'\"'\n",
    "          +','+'contactName'+':'+'\"'+str(row['contactName'])+'\"'\n",
    "          +','+'contactTitle'+':'+'\"'+str(row['contactTitle'])+'\"'\n",
    "          +','+'address'+':'+'\"'+str(row['address'])+'\"'\n",
    "          +','+'city'+':'+'\"'+str(row['city'])+'\"'\n",
    "          +','+'region'+':'+'\"'+str(row['region'])+'\"'\n",
    "          +','+'postalCode'+':'+'\"'+str(row['postalCode'])+'\"'\n",
    "          +','+'country'+':'+'\"'+str(row['country'])+'\"'\n",
    "          +','+'phone'+':'+'\"'+str(row['phone'])+'\"'\n",
    "          +','+'fax'+':'+'\"'+str(row['fax'])+'\"'\n",
    "          +'})')\n",
    "\n",
    "\n",
    "for index,row in df_northwind_order.iterrows():\n",
    "#     category_node_list.append('CREATE (n:'+'Order'+' {'\n",
    "    create_node_list.append('CREATE (n:'+'Order'+' {'\n",
    "          +'orderID'+':'+'\"'+str(row['orderID'])+'\"'\n",
    "          +','+'customerID'+':'+'\"'+str(row['customerID'])+'\"'\n",
    "          +','+'employeeID'+':'+'\"'+str(row['employeeID'])+'\"'\n",
    "          +','+'orderDate'+':'+'\"'+str(row['orderDate'])+'\"'\n",
    "          +','+'requiredDate'+':'+'\"'+str(row['requiredDate'])+'\"'\n",
    "          +','+'shippedDate'+':'+'\"'+str(row['shippedDate'])+'\"'\n",
    "          +','+'shipVia'+':'+'\"'+str(row['shipVia'])+'\"'\n",
    "          +','+'freight'+':'+'\"'+str(row['freight'])+'\"'\n",
    "          +','+'shipName'+':'+'\"'+str(row['shipName'])+'\"'\n",
    "          +','+'shipAddress'+':'+'\"'+str(row['shipAddress'])+'\"'\n",
    "          +','+'shipCity'+':'+'\"'+str(row['shipCity'])+'\"'\n",
    "          +','+'shipRegion'+':'+'\"'+str(row['shipRegion'])+'\"'\n",
    "          +','+'shipPostalCode'+':'+'\"'+str(row['shipPostalCode'])+'\"'\n",
    "          +','+'shipCountry'+':'+'\"'+str(row['shipCountry'])+'\"'\n",
    "          +'})')    \n",
    "    \n",
    "for index,row in df_northwind_employee.iterrows():\n",
    "#     category_node_list.append('CREATE (n:'+'Order'+' {'\n",
    "    create_node_list.append('CREATE (n:'+'Employee'+' {'\n",
    "          +'employeeID'+':'+'\"'+str(row['employeeID'])+'\"'\n",
    "          +','+'lastName'+':'+'\"'+str(row['lastName'])+'\"'\n",
    "          +','+'firstName'+':'+'\"'+str(row['firstName'])+'\"'\n",
    "          +','+'title'+':'+'\"'+str(row['title'])+'\"'\n",
    "          +','+'titleOfCourtesy'+':'+'\"'+str(row['titleOfCourtesy'])+'\"'\n",
    "          +','+'birthDate'+':'+'\"'+str(row['birthDate'])+'\"'\n",
    "          +','+'hireDate'+':'+'\"'+str(row['hireDate'])+'\"'\n",
    "          +','+'city'+':'+'\"'+str(row['city'])+'\"'\n",
    "          +','+'region'+':'+'\"'+str(row['region'])+'\"'\n",
    "          +','+'postalCode'+':'+'\"'+str(row['postalCode'])+'\"'\n",
    "          +','+'country'+':'+'\"'+str(row['country'])+'\"'\n",
    "          +','+'homePhone'+':'+'\"'+str(row['homePhone'])+'\"'\n",
    "          +','+'extension'+':'+'\"'+str(row['extension'])+'\"'\n",
    "          +','+'photo'+':'+'\"'+str(row['photo'])+'\"'\n",
    "          +','+'notes'+':'+'\"'+str(row['notes'])+'\"'\n",
    "          +','+'reportsTo'+':'+'\"'+str(row['reportsTo'])+'\"'\n",
    "          +','+'photoPath'+':'+'\"'+str(row['photoPath'])+'\"'\n",
    "          +'})')    \n",
    "    \n",
    "\n",
    "\n",
    "\n",
    "execute_transactions(create_node_list,uri,user,password)\n",
    "\n"
   ]
  },
  {
   "cell_type": "markdown",
   "id": "accurate-bargain",
   "metadata": {},
   "source": [
    "### Import relationship Northwind"
   ]
  },
  {
   "cell_type": "code",
   "execution_count": 22,
   "id": "current-armenia",
   "metadata": {},
   "outputs": [],
   "source": [
    "#define relationship based on join relationship between data sources\n",
    "\n",
    "df_r_prod_cat = df_northwind_product.merge(df_northwind_category, on='categoryID',how='left')[['productID','categoryID']]\n",
    "df_r_prod_sup = df_northwind_product.merge(df_northwind_supplier, on='supplierID',how='left')[['productID','supplierID']]\n",
    "df_r_cust_order = df_northwind_customer.merge(df_northwind_order, on='customerID',how='left')[['customerID','orderID']]\n",
    "df_r_order_empl = df_northwind_order.merge(df_northwind_employee, on='employeeID',how='left')[['orderID','employeeID']]\n",
    "df_r_empl_reports = df_northwind_employee[['employeeID','reportsTo']]\n"
   ]
  },
  {
   "cell_type": "code",
   "execution_count": 23,
   "id": "satisfactory-ireland",
   "metadata": {},
   "outputs": [],
   "source": [
    "create_relationship_list = []\n",
    "\n",
    "for index,row in df_r_prod_cat.iterrows():\n",
    "    create_relationship_list.append('MATCH (p:Product {'+df_r_prod_cat.columns[0]+':'+'\"'+str(row[df_r_prod_cat.columns[0]])+'\"'+'}) '\n",
    "                                    +'MATCH (c:Category {'+df_r_prod_cat.columns[1]+':'+'\"'+str(row[df_r_prod_cat.columns[1]])+'\"'+'}) '\n",
    "                                    +'CREATE (p)-[r:PART_OF]->(c)')\n",
    "    \n",
    "for index,row in df_r_prod_sup.iterrows():\n",
    "    create_relationship_list.append('MATCH (p:Product {'+df_r_prod_sup.columns[0]+':'+'\"'+str(row[df_r_prod_sup.columns[0]])+'\"'+'}) '\n",
    "                                    +'MATCH (s:Supplier {'+df_r_prod_sup.columns[1]+':'+'\"'+str(row[df_r_prod_sup.columns[1]])+'\"'+'}) '\n",
    "                                    +'CREATE (p)-[r:SUPPLIES]->(s)')\n",
    "    \n",
    "for index,row in df_r_cust_order.iterrows():\n",
    "    create_relationship_list.append('MATCH (cu:Customer {'+df_r_cust_order.columns[0]+':'+'\"'+str(row[df_r_cust_order.columns[0]])+'\"'+'}) '\n",
    "                                    +'MATCH (o:Order {'+df_r_cust_order.columns[1]+':'+'\"'+str(row[df_r_cust_order.columns[1]])+'\"'+'}) '\n",
    "                                    +'CREATE (cu)-[r:PURCHASED]->(o)')\n",
    "    \n",
    "for index,row in df_northwind_order_detail.iterrows():\n",
    "    create_relationship_list.append('MATCH (o:Order {'+df_northwind_order_detail.columns[0]+':'+'\"'+str(int(row[df_northwind_order_detail.columns[0]]))+'\"'+'}) '\n",
    "                                    +'MATCH (p:Product {'+df_northwind_order_detail.columns[1]+':'+'\"'+str(int(row[df_northwind_order_detail.columns[1]]))+'\"'+'}) '\n",
    "                                    +'CREATE (o)-[r:ORDERS]->(p)'+' '\n",
    "                                    +'SET r.quantity='+str(row[df_northwind_order_detail.columns[3]]))\n",
    "\n",
    "for index,row in df_r_order_empl.iterrows():\n",
    "    create_relationship_list.append('MATCH (o:Order {'+df_r_order_empl.columns[0]+':'+'\"'+str(int(row[df_r_order_empl.columns[0]]))+'\"'+'}) '\n",
    "                                    +'MATCH (e:Employee {'+df_r_order_empl.columns[1]+':'+'\"'+str(int(row[df_r_order_empl.columns[1]]))+'\"'+'}) '\n",
    "                                    +'CREATE (o)-[r:CASHIER_BY]->(e)')\n",
    "    \n",
    "for index,row in df_r_empl_reports.iterrows():\n",
    "    create_relationship_list.append('MATCH (e:Employee {'+df_r_empl_reports.columns[0]+':'+'\"'+str(int(row[df_r_empl_reports.columns[0]]))+'\"'+'}) '\n",
    "                                    'MATCH (er:Employee {'+df_r_empl_reports.columns[1]+':'+'\"'+str(int(row[df_r_empl_reports.columns[1]]))+'\"'+'}) '\n",
    "                                    +'CREATE (er)-[r:REPORTS_TO]->(e)')\n",
    "    \n",
    "    \n",
    "# print(create_relationship_list)\n",
    "execute_transactions(create_relationship_list,uri,user,password)"
   ]
  },
  {
   "cell_type": "markdown",
   "id": "aerial-yacht",
   "metadata": {},
   "source": [
    "### Convert string to date"
   ]
  },
  {
   "cell_type": "code",
   "execution_count": 24,
   "id": "apart-secret",
   "metadata": {},
   "outputs": [],
   "source": [
    "convert_to_date_list = []\n",
    "\n",
    "convert_to_date_list.append('MATCH (e:Employee) WHERE size(e.birthDate) >10 SET e.birthDate =  date(left(e.birthDate,10))')\n",
    "convert_to_date_list.append('MATCH (e:Employee) WHERE size(e.hireDate) >10 SET e.hireDate =  date(left(e.hireDate,10))')\n",
    "convert_to_date_list.append('MATCH (o:Order) WHERE size(o.orderDate) >10 SET o.orderDate =  date(left(o.orderDate,10))')\n",
    "convert_to_date_list.append('MATCH (o:Order) WHERE size(o.requiredDate) >10 SET o.requiredDate =  date(left(o.requiredDate,10))')\n",
    "convert_to_date_list.append('MATCH (o:Order) WHERE size(o.shippedDate) >10 SET o.shippedDate =  date(left(o.shippedDate,10))')\n",
    "\n",
    "execute_transactions(convert_to_date_list,uri,user,password)"
   ]
  },
  {
   "cell_type": "code",
   "execution_count": null,
   "id": "intensive-latin",
   "metadata": {},
   "outputs": [],
   "source": []
  }
 ],
 "metadata": {
  "kernelspec": {
   "display_name": "Python 3",
   "language": "python",
   "name": "python3"
  },
  "language_info": {
   "codemirror_mode": {
    "name": "ipython",
    "version": 3
   },
   "file_extension": ".py",
   "mimetype": "text/x-python",
   "name": "python",
   "nbconvert_exporter": "python",
   "pygments_lexer": "ipython3",
   "version": "3.7.4"
  }
 },
 "nbformat": 4,
 "nbformat_minor": 5
}
